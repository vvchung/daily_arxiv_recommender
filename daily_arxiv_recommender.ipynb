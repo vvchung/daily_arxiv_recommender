{
  "cells": [
    {
      "cell_type": "markdown",
      "metadata": {
        "id": "lH4Pi1DCwzub"
      },
      "source": [
        "# ArXiv 每日論文推薦檢視器\n",
        "\n",
        "這個 Google Colab 筆記本會自動從 ArXiv 上爬取指定領域的最新論文，並根據您設定的關鍵字，使用 TF-IDF 和餘弦相似度計算論文的相關性分數，最後**直接在 Colab 中顯示每日論文推薦結果**。\n",
        "\n",
        "### 流程概覽：\n",
        "1.  **安裝與導入函式庫**：設定執行環境。\n",
        "2.  **參數配置**：設定您的個人偏好，包括關鍵字和 ArXiv 領域。\n",
        "3.  **抓取每日論文**：從 ArXiv API 獲取最新發表的論文。\n",
        "4.  **匹配與排序**：計算每篇論文與關鍵字的相關性分數。\n",
        "5.  **顯示推薦結果**：將最終推薦列表清晰地呈現在下方儲存格中。"
      ]
    },
    {
      "cell_type": "markdown",
      "metadata": {
        "id": "vutt6UH7wzue"
      },
      "source": [
        "## 步驟 1：安裝與導入函式庫\n",
        "\n",
        "首先，我們需要安裝 `arxiv` 套件來與 ArXiv API 互動。其他如 `pandas` 和 `scikit-learn` 在 Colab 環境中已預先安裝。"
      ]
    },
    {
      "cell_type": "code",
      "execution_count": null,
      "metadata": {
        "id": "CnewPDw1wzue"
      },
      "outputs": [],
      "source": [
        "!pip install arxiv\n",
        "\n",
        "import arxiv\n",
        "import pandas as pd\n",
        "from datetime import datetime, timedelta, timezone\n",
        "from sklearn.feature_extraction.text import TfidfVectorizer\n",
        "from sklearn.metrics.pairwise import cosine_similarity"
      ]
    },
    {
      "cell_type": "markdown",
      "metadata": {
        "id": "t1nQIblywzuf"
      },
      "source": [
        "## 步驟 2：參數配置\n",
        "\n",
        "在這裡設定您的個人偏好。您可以修改 `KEYWORDS` 列表來定義您感興趣的研究方向，並在 `ARXIV_TOPIC` 中選擇您想關注的 ArXiv 領域。"
      ]
    },
    {
      "cell_type": "code",
      "execution_count": null,
      "metadata": {
        "id": "nf-sFZmPwzug"
      },
      "outputs": [],
      "source": [
        "# --- 論文相關設定 ---\n",
        "# 您感興趣的關鍵字\n",
        "KEYWORDS = [\n",
        "    'Object Detection', 'Computer Vision', 'Image Classification',\n",
        "    'Natural Language Processing', 'Large Language Models', 'Transformer',\n",
        "    'Reinforcement Learning', 'Graph Neural Networks', 'Recommendation Systems'\n",
        "]\n",
        "\n",
        "# 您想搜尋的 ArXiv 領域 (key 是自訂名稱, value 是 ArXiv 的官方代碼)\n",
        "ARXIV_TOPIC = {\n",
        "    'Computer Vision': 'cs.CV',\n",
        "    'Computation and Language': 'cs.CL',\n",
        "    'Artificial Intelligence': 'cs.AI',\n",
        "    'Machine Learning': 'stat.ML'\n",
        "}\n",
        "\n",
        "MAX_RESULTS_PER_TOPIC = 50  # 每個領域最多爬取幾篇論文\n",
        "TOP_K = 10                  # 最終顯示幾篇最相關的論文\n",
        "\n",
        "print(\"✅ 參數設定完成！\")\n",
        "print(f\"設定的關鍵字數量: {len(KEYWORDS)}\")\n",
        "print(f\"將搜尋的領域: {list(ARXIV_TOPIC.keys())}\")"
      ]
    },
    {
      "cell_type": "markdown",
      "metadata": {
        "id": "FvfU189awzug"
      },
      "source": [
        "## 步驟 3：抓取每日論文\n",
        "\n",
        "這個函式會連接 ArXiv API，抓取指定領域中在過去 24 小時內發表的論文，並將標題、摘要、作者等資訊整理成一個 `pandas` DataFrame。"
      ]
    },
    {
      "cell_type": "code",
      "execution_count": null,
      "metadata": {
        "id": "XvGxHURrwzug"
      },
      "outputs": [],
      "source": [
        "import arxiv\n",
        "import pandas as pd\n",
        "from datetime import datetime, timedelta, timezone\n",
        "from sklearn.feature_extraction.text import TfidfVectorizer\n",
        "from sklearn.metrics.pairwise import cosine_similarity\n",
        "\n",
        "def get_daily_papers(topics, max_results=50):\n",
        "    \"\"\"\n",
        "    從 ArXiv API 抓取指定領域的每日最新論文。\n",
        "    \"\"\"\n",
        "    # 設定時區為 ArXiv API 使用的 UTC，並取得一天前的時間\n",
        "    utc_now = datetime.now(timezone.utc)\n",
        "    yesterday_utc = utc_now - timedelta(days=1)\n",
        "\n",
        "    all_papers = []\n",
        "    query = \" OR \".join([f'cat:{cat}' for cat in topics.values()])\n",
        "\n",
        "    search = arxiv.Search(\n",
        "        query=query,\n",
        "        max_results=max_results * len(topics), # 總論文數\n",
        "        sort_by=arxiv.SortCriterion.SubmittedDate\n",
        "    )\n",
        "\n",
        "    print(f\"🔍 正在從 ArXiv 搜尋論文... (查詢語法: {query})\")\n",
        "    for result in search.results():\n",
        "        # ArXiv API 回傳的時間是 UTC，我們直接比較\n",
        "        if result.published.date() >= yesterday_utc.date():\n",
        "            paper_info = {\n",
        "                'title': result.title,\n",
        "                'summary': result.summary.replace('\\n', ' '),\n",
        "                'authors': [author.name for author in result.authors],\n",
        "                'url': result.pdf_url,\n",
        "                'published': result.published.strftime(\"%Y-%m-%d\")\n",
        "            }\n",
        "            all_papers.append(paper_info)\n",
        "\n",
        "    if not all_papers:\n",
        "        print(\"⚠️ 找不到過去一天內發表的新論文。\")\n",
        "        return pd.DataFrame()\n",
        "\n",
        "    df = pd.DataFrame(all_papers)\n",
        "    df = df.drop_duplicates(subset='title', keep='first') # 移除重複標題\n",
        "    print(f\"✅ 成功抓取並整理了 {len(df)} 篇不重複的論文。\")\n",
        "    return df\n",
        "\n",
        "# --- 執行抓取 ---\n",
        "daily_papers_df = get_daily_papers(ARXIV_TOPIC, max_results=MAX_RESULTS_PER_TOPIC)\n",
        "if not daily_papers_df.empty:\n",
        "    print(\"\\n--- 抓取結果預覽 ---\")\n",
        "    display(daily_papers_df.head())"
      ]
    },
    {
      "cell_type": "markdown",
      "metadata": {
        "id": "a7S2z7HZwzuh"
      },
      "source": [
        "## 步驟 4：匹配與排序\n",
        "\n",
        "這個函式是推薦系統的核心。它執行以下操作：\n",
        "1.  將您設定的關鍵字合併成一個「興趣描述」。\n",
        "2.  使用 `TfidfVectorizer` 將每篇論文的摘要和您的興趣描述轉換成數值向量。\n",
        "3.  計算每篇論文摘要向量與您的興趣描述向量之間的**餘弦相似度**，得到一個 0 到 1 之間的分數。\n",
        "4.  根據分數排序，分數越高的論文代表與您的興趣越相關。"
      ]
    },
    {
      "cell_type": "code",
      "execution_count": null,
      "metadata": {
        "id": "TA_NKVu_wzuh"
      },
      "outputs": [],
      "source": [
        "def keyword_match_and_rank(df, keywords, top_k=10):\n",
        "    \"\"\"\n",
        "    使用 TF-IDF 和餘弦相似度，根據關鍵字對論文進行排序。\n",
        "    \"\"\"\n",
        "    if df.empty:\n",
        "        print(\"資料為空，無法進行匹配。\")\n",
        "        return df\n",
        "\n",
        "    print(\"\\n⚖️ 正在計算論文與關鍵字的相關性分數...\")\n",
        "    # 將論文摘要和關鍵字列表合併，以便一同轉換為 TF-IDF 向量\n",
        "    keyword_string = ' '.join(keywords)\n",
        "    corpus = df['summary'].tolist() + [keyword_string]\n",
        "\n",
        "    # 初始化並擬合 TF-IDF Vectorizer\n",
        "    vectorizer = TfidfVectorizer(stop_words='english')\n",
        "    tfidf_matrix = vectorizer.fit_transform(corpus)\n",
        "\n",
        "    # 計算論文摘要向量與關鍵字向量的餘弦相似度\n",
        "    cosine_sim = cosine_similarity(tfidf_matrix[:-1], tfidf_matrix[-1])\n",
        "\n",
        "    # 將相似度分數加入 DataFrame 並排序\n",
        "    df['score'] = cosine_sim\n",
        "    ranked_df = df.sort_values(by='score', ascending=False)\n",
        "\n",
        "    print(f\"✅ 計算完成！將選出前 {top_k} 篇最相關的論文。\")\n",
        "    return ranked_df.head(top_k)\n",
        "\n",
        "# --- 執行匹配與排序 ---\n",
        "recommended_papers_df = keyword_match_and_rank(daily_papers_df, KEYWORDS, top_k=TOP_K)\n",
        "if not recommended_papers_df.empty:\n",
        "    print(\"\\n--- 推薦結果預覽 ---\")\n",
        "    display(recommended_papers_df[['title', 'score', 'published']])"
      ]
    },
    {
      "cell_type": "markdown",
      "metadata": {
        "id": "7_wtZe25wzuh"
      },
      "source": [
        "## 步驟 5：整合執行與檢視結果\n",
        "\n",
        "最後，我們將所有函式串連起來。您可以直接執行此儲存格來完成整個流程：從抓取論文到評分排序，並在下方直接檢視最終的推薦結果。"
      ]
    },
    {
      "cell_type": "code",
      "execution_count": null,
      "metadata": {
        "id": "IblempnIwzui"
      },
      "outputs": [],
      "source": [
        "def main():\n",
        "    \"\"\"主執行函式\"\"\"\n",
        "    print(\"--- 開始執行每日論文推薦任務 ---\")\n",
        "\n",
        "    # 1. 抓取論文\n",
        "    papers_df = get_daily_papers(\n",
        "        topics=ARXIV_TOPIC,\n",
        "        max_results=MAX_RESULTS_PER_TOPIC\n",
        "    )\n",
        "\n",
        "    # 2. 匹配與排序\n",
        "    ranked_papers = keyword_match_and_rank(\n",
        "        df=papers_df,\n",
        "        keywords=KEYWORDS,\n",
        "        top_k=TOP_K\n",
        "    )\n",
        "\n",
        "    # 3. 顯示最終推薦結果\n",
        "    if not ranked_papers.empty:\n",
        "        print(\"\\n--- ✨ 最終為您推薦的論文列表 ✨ ---\")\n",
        "        # 為了更好的可讀性，我們讓 URL 可以點擊\n",
        "        def make_clickable(val):\n",
        "            return f'<a target=\"_blank\" href=\"{val}\">{val}</a>'\n",
        "\n",
        "        display_df = ranked_papers[['title', 'score', 'published', 'url']].copy()\n",
        "        display_df.style.format({'url': make_clickable})\n",
        "        display(display_df)\n",
        "    else:\n",
        "        print(\"\\n--- 今日無合適論文推薦 ---\")\n",
        "\n",
        "    print(\"\\n--- 任務執行完畢 ---\")\n",
        "\n",
        "# --- 執行主函式 ---\n",
        "if __name__ == \"__main__\":\n",
        "    main()"
      ]
    },
    {
      "cell_type": "markdown",
      "metadata": {
        "id": "trY66ByHwzui"
      },
      "source": [
        "## 自動化建議\n",
        "\n",
        "這個 Colab 筆記本非常適合用於教學。如果您想實現真正的學術研究每日自動化，可以考慮以下方法：\n",
        "\n",
        "1.  **轉換為 Python 腳本**：將此筆記本的程式碼整理成一個 `.py` 檔案。\n",
        "2.  **使用 GitHub Actions**：您可以設定一個排程，讓 GitHub 每天在固定的時間自動執行您的 Python 腳本。如果未來需要加入其他 API 金鑰等秘密，可以使用 GitHub Repository 的 Secrets 功能。\n",
        "3.  **使用雲端服務**：例如以 Google Cloud Scheduler 搭配 Cloud Functions，來設定定時任務。"
      ]
    }
  ],
  "metadata": {
    "kernelspec": {
      "display_name": "Python 3",
      "language": "python",
      "name": "python3"
    },
    "language_info": {
      "codemirror_mode": {
        "name": "ipython",
        "version": 3
      },
      "file_extension": ".py",
      "mimetype": "text/x-python",
      "name": "python",
      "nbconvert_exporter": "python",
      "pygments_lexer": "ipython3",
      "version": "3.10.12"
    },
    "colab": {
      "provenance": []
    }
  },
  "nbformat": 4,
  "nbformat_minor": 0
}